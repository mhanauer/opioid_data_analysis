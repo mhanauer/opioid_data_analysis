{
  "nbformat": 4,
  "nbformat_minor": 0,
  "metadata": {
    "colab": {
      "provenance": [],
      "mount_file_id": "1-oP3Bp-EQexBV5rJ-YywzQ0CKUjowxaB",
      "authorship_tag": "ABX9TyPK/33OIF4S5YKLUQ/A10Lz",
      "include_colab_link": true
    },
    "kernelspec": {
      "name": "python3",
      "display_name": "Python 3"
    },
    "language_info": {
      "name": "python"
    }
  },
  "cells": [
    {
      "cell_type": "markdown",
      "metadata": {
        "id": "view-in-github",
        "colab_type": "text"
      },
      "source": [
        "<a href=\"https://colab.research.google.com/github/mhanauer/opioid_data_analysis/blob/main/data_modeling.ipynb\" target=\"_parent\"><img src=\"https://colab.research.google.com/assets/colab-badge.svg\" alt=\"Open In Colab\"/></a>"
      ]
    },
    {
      "cell_type": "markdown",
      "source": [
        "Step: Load packages "
      ],
      "metadata": {
        "id": "4L14PCHbrV3U"
      }
    },
    {
      "cell_type": "code",
      "execution_count": 2,
      "metadata": {
        "colab": {
          "base_uri": "https://localhost:8080/"
        },
        "id": "unIExUq9rGmf",
        "outputId": "8409abaf-483e-4449-bd46-afbf5f8cce43"
      },
      "outputs": [
        {
          "output_type": "stream",
          "name": "stdout",
          "text": [
            "Cloning into 'opioid_data_analysis'...\n",
            "remote: Enumerating objects: 4, done.\u001b[K\n",
            "remote: Counting objects: 100% (4/4), done.\u001b[K\n",
            "remote: Compressing objects: 100% (3/3), done.\u001b[K\n",
            "remote: Total 4 (delta 0), reused 0 (delta 0), pack-reused 0\u001b[K\n",
            "Unpacking objects: 100% (4/4), 1.57 KiB | 1.57 MiB/s, done.\n"
          ]
        }
      ],
      "source": [
        "!git clone https://github.com/mhanauer/opioid_data_analysis.git"
      ]
    },
    {
      "cell_type": "code",
      "source": [
        "import requests\n",
        "import json\n",
        "\n",
        "# Replace these values with your own query parameters\n",
        "url = \"https://wonder.cdc.gov/controller/datarequest/D77\"\n",
        "params = {\n",
        "    \"tbl\": \"D77.V1\",\n",
        "    \"id\": [\"1\", \"2\"],\n",
        "    \"filter\": [\"D77.V1\", \"AGE\", \"1\", \"4\"],\n",
        "    \"stage\": \"request\",\n",
        "    \"path\": \"https://wonder.cdc.gov/controller/datarequest/D77\",\n",
        "    \"data-type\": \"JSON\",\n",
        "    \"state\": \"6\",\n",
        "    \"county\": [\"06001\", \"06037\", \"06075\", \"06113\", \"08031\", \"08059\", \"08069\", \"08087\", \"08093\", \"08123\"],\n",
        "    \"year\": [\"2017\"],\n",
        "    \"race\": [\"0\"],\n",
        "    \"ethnicity\": [\"0\"],\n",
        "    \"sex\": [\"0\"],\n",
        "    \"age_adjustment\": \"none\",\n",
        "    \"show_totals\": \"true\",\n",
        "    \"show_mirrored\": \"false\",\n",
        "    \"requested_data_type\": \"both\",\n",
        "    \"action-Send\": \"Send\"\n",
        "}\n",
        "\n",
        "response = requests.get(url, params=params)\n",
        "\n",
        "if response.status_code == 200:\n",
        "    data = json.loads(response.text)\n",
        "    # Process the data as needed\n",
        "else:\n",
        "    print(f\"Error: {response.status_code} - {response.reason}\")\n"
      ],
      "metadata": {
        "colab": {
          "base_uri": "https://localhost:8080/"
        },
        "id": "fnnZUSeIruXz",
        "outputId": "f2ee6e42-c6b7-4c3c-f823-b30989d9bb9b"
      },
      "execution_count": 6,
      "outputs": [
        {
          "output_type": "stream",
          "name": "stdout",
          "text": [
            "Error: 500 - 500\n"
          ]
        }
      ]
    },
    {
      "cell_type": "code",
      "source": [
        "import requests\n",
        "from datetime import date, timedelta\n",
        "\n",
        "def get_overdose_deaths(state, year=None, month=None):\n",
        "    # Set the WONDER API endpoint and parameters\n",
        "    endpoint = 'https://wonder.cdc.gov/controller/datarequest'\n",
        "    params = {\n",
        "        'stage': 'request',\n",
        "        'action': 'execute',\n",
        "        'dataType': 'Trend',\n",
        "        'queryType': 'Chart',\n",
        "        'selectedTab': 'Graph1',\n",
        "        'dataSource': 'HCUP, NVSS',\n",
        "        'ageAdjustment': 'Age-adjusted',\n",
        "        'request_measure': 'Death Rate',\n",
        "        'graph_title': 'Drug Overdose Death Rates by State',\n",
        "        'state': state,\n",
        "    }\n",
        "    if year:\n",
        "        params['year'] = year\n",
        "    if month:\n",
        "        params['month'] = month\n",
        "    \n",
        "    # Make a GET request to the WONDER API with the specified parameters\n",
        "    response = requests.get(endpoint, params=params)\n",
        "    \n",
        "    # Check if the request was successful and return the overdose death data\n",
        "    if response.status_code == 200:\n",
        "        data = response.json()['data']\n",
        "        overdose_deaths = int(data[0]['Value'])\n",
        "        return overdose_deaths\n",
        "    else:\n",
        "        raise Exception(f\"Error retrieving overdose deaths data. Status code: {response.status_code}\")\n"
      ],
      "metadata": {
        "id": "XK36ujN0tKhg"
      },
      "execution_count": 9,
      "outputs": []
    },
    {
      "cell_type": "code",
      "source": [
        "overdose_deaths = get_overdose_deaths('CA', 2020, 12)\n",
        "print(overdose_deaths)  # prints the number of drug overdose deaths in California in December 2020"
      ],
      "metadata": {
        "colab": {
          "base_uri": "https://localhost:8080/",
          "height": 276
        },
        "id": "6YtRz6ULtMGS",
        "outputId": "7d249dfb-2447-461d-8232-9ca99f90dd63"
      },
      "execution_count": 10,
      "outputs": [
        {
          "output_type": "error",
          "ename": "Exception",
          "evalue": "ignored",
          "traceback": [
            "\u001b[0;31m---------------------------------------------------------------------------\u001b[0m",
            "\u001b[0;31mException\u001b[0m                                 Traceback (most recent call last)",
            "\u001b[0;32m<ipython-input-10-aea0d32af990>\u001b[0m in \u001b[0;36m<module>\u001b[0;34m\u001b[0m\n\u001b[0;32m----> 1\u001b[0;31m \u001b[0moverdose_deaths\u001b[0m \u001b[0;34m=\u001b[0m \u001b[0mget_overdose_deaths\u001b[0m\u001b[0;34m(\u001b[0m\u001b[0;34m'CA'\u001b[0m\u001b[0;34m,\u001b[0m \u001b[0;36m2020\u001b[0m\u001b[0;34m,\u001b[0m \u001b[0;36m12\u001b[0m\u001b[0;34m)\u001b[0m\u001b[0;34m\u001b[0m\u001b[0;34m\u001b[0m\u001b[0m\n\u001b[0m\u001b[1;32m      2\u001b[0m \u001b[0mprint\u001b[0m\u001b[0;34m(\u001b[0m\u001b[0moverdose_deaths\u001b[0m\u001b[0;34m)\u001b[0m  \u001b[0;31m# prints the number of drug overdose deaths in California in December 2020\u001b[0m\u001b[0;34m\u001b[0m\u001b[0;34m\u001b[0m\u001b[0m\n",
            "\u001b[0;32m<ipython-input-9-e6fa3f090f42>\u001b[0m in \u001b[0;36mget_overdose_deaths\u001b[0;34m(state, year, month)\u001b[0m\n\u001b[1;32m     31\u001b[0m         \u001b[0;32mreturn\u001b[0m \u001b[0moverdose_deaths\u001b[0m\u001b[0;34m\u001b[0m\u001b[0;34m\u001b[0m\u001b[0m\n\u001b[1;32m     32\u001b[0m     \u001b[0;32melse\u001b[0m\u001b[0;34m:\u001b[0m\u001b[0;34m\u001b[0m\u001b[0;34m\u001b[0m\u001b[0m\n\u001b[0;32m---> 33\u001b[0;31m         \u001b[0;32mraise\u001b[0m \u001b[0mException\u001b[0m\u001b[0;34m(\u001b[0m\u001b[0;34mf\"Error retrieving overdose deaths data. Status code: {response.status_code}\"\u001b[0m\u001b[0;34m)\u001b[0m\u001b[0;34m\u001b[0m\u001b[0;34m\u001b[0m\u001b[0m\n\u001b[0m",
            "\u001b[0;31mException\u001b[0m: Error retrieving overdose deaths data. Status code: 500"
          ]
        }
      ]
    }
  ]
}